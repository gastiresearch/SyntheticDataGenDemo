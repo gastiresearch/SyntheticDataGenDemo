{
 "cells": [
  {
   "cell_type": "markdown",
   "id": "39b8b17e-c59a-47cc-8014-6679a5e13550",
   "metadata": {
    "jp-MarkdownHeadingCollapsed": true
   },
   "source": [
    "# 1. Setup the environment"
   ]
  },
  {
   "cell_type": "markdown",
   "id": "10d09c75-93e5-4822-a866-e259fdd57fee",
   "metadata": {},
   "source": [
    "Load libraries for data analysis"
   ]
  },
  {
   "cell_type": "code",
   "execution_count": null,
   "id": "a5bc8dbb-cdbc-4153-b317-e47a579d6b51",
   "metadata": {},
   "outputs": [],
   "source": [
    "import pandas as pd\n",
    "from functions import *\n",
    "import warnings\n",
    "warnings.filterwarnings(\"ignore\")"
   ]
  },
  {
   "cell_type": "markdown",
   "id": "ec8d25d1-5e24-409f-bef3-625ea309d0b8",
   "metadata": {},
   "source": [
    "Load data"
   ]
  },
  {
   "cell_type": "code",
   "execution_count": null,
   "id": "8a6dcf1e-8a27-450d-a6a1-79e459f68c43",
   "metadata": {},
   "outputs": [],
   "source": [
    "posizione_dati_reali = \"data/mds_real_data_nan.xlsx\"\n",
    "\n",
    "real_data = pd.read_excel(posizione_dati_reali)"
   ]
  },
  {
   "cell_type": "code",
   "execution_count": null,
   "id": "40757200-f535-408e-ae09-84ca8b085657",
   "metadata": {},
   "outputs": [],
   "source": [
    "real_data.head()"
   ]
  },
  {
   "cell_type": "markdown",
   "id": "e3afcd5c-5743-48d9-befc-dee0298a8110",
   "metadata": {
    "jp-MarkdownHeadingCollapsed": true
   },
   "source": [
    "# 2. Explorative Data Analysis (EDA)"
   ]
  },
  {
   "cell_type": "code",
   "execution_count": null,
   "id": "64c33a2a-b47b-4088-8d40-4339ce8aaab2",
   "metadata": {},
   "outputs": [],
   "source": [
    "real_data.shape"
   ]
  },
  {
   "cell_type": "code",
   "execution_count": null,
   "id": "2c90e9bf-1182-4574-821c-2597d6f47972",
   "metadata": {},
   "outputs": [],
   "source": [
    "real_data.shape[0]*real_data.shape[1]"
   ]
  },
  {
   "cell_type": "code",
   "execution_count": null,
   "id": "b0b46d3d-43f7-4480-88f4-60869b166c97",
   "metadata": {},
   "outputs": [],
   "source": [
    "real_data.isnull().values.sum()"
   ]
  },
  {
   "cell_type": "code",
   "execution_count": null,
   "id": "fa01e1ba-cda0-4401-aa29-0b5d0460f245",
   "metadata": {},
   "outputs": [],
   "source": [
    "plot_missing_data_histogram(real_data)"
   ]
  },
  {
   "cell_type": "code",
   "execution_count": null,
   "id": "4ad17105-cc6b-4f5f-ad27-5328f040cf5a",
   "metadata": {},
   "outputs": [],
   "source": [
    "real_data_cleaned = real_data.dropna()"
   ]
  },
  {
   "cell_type": "code",
   "execution_count": null,
   "id": "a51d47bd-4ea7-4d0a-b1b9-475876738559",
   "metadata": {},
   "outputs": [],
   "source": [
    "plot_missing_data_histogram(real_data_cleaned)"
   ]
  },
  {
   "cell_type": "code",
   "execution_count": null,
   "id": "1be3c64c-3d94-4b86-9a3c-22c8dc35fc8a",
   "metadata": {},
   "outputs": [],
   "source": [
    "real_data_cleaned.shape"
   ]
  },
  {
   "cell_type": "code",
   "execution_count": null,
   "id": "c96bfbcb-34ad-463b-b100-083a9bf45f54",
   "metadata": {},
   "outputs": [],
   "source": [
    "plot_dataframe_rows_histogram(real_data, real_data_cleaned)"
   ]
  },
  {
   "cell_type": "markdown",
   "id": "2c3c3529-1b47-446b-a72c-fca30e9f41ef",
   "metadata": {
    "jp-MarkdownHeadingCollapsed": true
   },
   "source": [
    "# 3. Build classificator"
   ]
  },
  {
   "cell_type": "markdown",
   "id": "e6e15cbb-9932-426f-8622-7001763ae840",
   "metadata": {},
   "source": [
    "### Data preparation"
   ]
  },
  {
   "cell_type": "markdown",
   "id": "a62945af-5e59-49c8-825d-56917030a289",
   "metadata": {},
   "source": [
    "Import libraries"
   ]
  },
  {
   "cell_type": "code",
   "execution_count": null,
   "id": "fa61202f-f751-412b-a31e-fce1b8f5844a",
   "metadata": {},
   "outputs": [],
   "source": [
    "import sklearn\n",
    "from sklearn.model_selection import train_test_split"
   ]
  },
  {
   "cell_type": "code",
   "execution_count": null,
   "id": "9de22ca0-7f0c-4224-8ae6-edb533b4ac96",
   "metadata": {},
   "outputs": [],
   "source": [
    "real_data_cleaned.loc[:,\"IPSSR Risk Group\"] = real_data_cleaned.loc[:,\"IPSSR Risk Group\"].map({\"High\": \"High\",\n",
    "                                                                                   \"Very-High\": \"Very High\",\n",
    "                                                                                   \"Low\": \"Low\",\n",
    "                                                                                   \"Int\": \"Intermediate\",\n",
    "                                                                                   \"Very-Low\": \"Very Low\"})"
   ]
  },
  {
   "cell_type": "code",
   "execution_count": null,
   "id": "d23358b6-7460-4994-9292-d11c490f8f6f",
   "metadata": {},
   "outputs": [],
   "source": [
    "df_real_data = real_data_cleaned\n",
    "df_real_data_col = list(df_real_data.columns)\n",
    "\n",
    "print(len(df_real_data_col))"
   ]
  },
  {
   "cell_type": "code",
   "execution_count": null,
   "id": "bce32843-176f-4722-98c3-3eab79eb9b37",
   "metadata": {},
   "outputs": [],
   "source": [
    "label_column = 'IPSSR Risk Group'\n",
    "df_real_data_col.pop(0)\n",
    "\n",
    "print(df_real_data[label_column].unique().shape)\n",
    "print(df_real_data[label_column].unique())"
   ]
  },
  {
   "cell_type": "code",
   "execution_count": null,
   "id": "29295c80-c5a4-4412-9a1c-83cc77686932",
   "metadata": {},
   "outputs": [],
   "source": [
    "cols_to_leave = ['del5q', 'Lossofchr5ordel5qPLUSother',\n",
    "       'Gainofchr8', 'Lossofchr9ordel9q', 'Lossofchr11ordel11q',\n",
    "       'Lossofchr12ordel12port12p', 'Lossofchr13ordel13q', 'Isochr17qort17p',\n",
    "       'Lossofchr20ordel20q', 'LossofchrY', 'idicXq13', 'ASXL1', 'ATRX',\n",
    "       'BCOR', 'BCORL1', 'BRAF', 'CBL', 'CEBPA', 'DNMT3A', 'ETV6',\n",
    "       'EZH2', 'FLT3', 'GATA2', 'GNAS', 'GNB1', 'IDH1', 'IDH2',\n",
    "       'JAK2', 'KIT', 'KRAS', 'MPL', 'NF1', 'NOTCH1', 'NPM1', 'NRAS', 'PHF6',\n",
    "       'PTPN11', 'RAD21', 'RUNX1', 'SF3B1', 'SMC1A', 'SMC3',\n",
    "       'SRSF2', 'STAG2', 'TET2', 'TP53', 'U2AF1', 'WT1', 'ZRSR2',\n",
    "       'CSF3R', 'SETBP1', 'PPM1D']"
   ]
  },
  {
   "cell_type": "markdown",
   "id": "042c907d-3cf2-4d98-8a12-d6c30cf1bb5c",
   "metadata": {},
   "source": [
    "## One Hot Encoding\n"
   ]
  },
  {
   "cell_type": "markdown",
   "id": "c5150daa-7880-4277-a6bf-f6bacfa6dd75",
   "metadata": {},
   "source": [
    "Il One Hot Encoding è una tecnica utilizzata nell'ambito del machine learning e dell'analisi dei dati per convertire variabili categoriche in una forma che possa essere fornita agli algoritmi di machine learning per l'analisi dei dati.\n",
    "\n",
    "### Come funziona\n",
    "\n",
    "Supponiamo di avere una variabile categorica che può assumere uno qualsiasi di diversi valori. Ad esempio, consideriamo una variabile `Colore` con tre possibili valori: Rosso, Blu e Verde. Utilizzando il One Hot Encoding, trasformiamo questa variabile in tre nuove variabili binarie:\n",
    "\n",
    "- `Colore_Rosso`: 1 se il colore è Rosso, altrimenti 0\n",
    "- `Colore_Blu`: 1 se il colore è Blu, altrimenti 0\n",
    "- `Colore_Verde`: 1 se il colore è Verde, altrimenti 0\n",
    "\n",
    "Queste nuove variabili binarie sono chiamate \"dummy variables\" o \"indicator variables\".\n",
    "\n",
    "### Esempio\n",
    "\n",
    "Supponiamo di avere un DataFrame con una colonna `Colore`:\n",
    "\n",
    "| Colore |\n",
    "|--------|\n",
    "| Rosso  |\n",
    "| Blu    |\n",
    "| Verde  |\n",
    "| Rosso  |\n",
    "\n",
    "Applicando il One Hot Encoding, il DataFrame sarà trasformato in:\n",
    "\n",
    "| Colore_Rosso | Colore_Blu | Colore_Verde |\n",
    "|--------------|------------|--------------|\n",
    "| 1            | 0          | 0            |\n",
    "| 0            | 1          | 0            |\n",
    "| 0            | 0          | 1            |\n",
    "| 1            | 0          | 0            |\n",
    "\n",
    "Ogni riga rappresenta una singola osservazione e le colonne rappresentano i diversi valori che può assumere la variabile `Colore`."
   ]
  },
  {
   "cell_type": "code",
   "execution_count": null,
   "id": "8ed1e39f-2b6b-4be1-8758-4cf916172876",
   "metadata": {},
   "outputs": [],
   "source": [
    "X_train_data = df_real_data[cols_to_leave].values\n",
    "Y_train_data = df_real_data[[label_column]]\n",
    "\n",
    "ohe = sklearn.preprocessing.OneHotEncoder()\n",
    "Y_train_data = ohe.fit_transform(Y_train_data).toarray()"
   ]
  },
  {
   "cell_type": "code",
   "execution_count": null,
   "id": "b30427b9-d9df-4900-98f0-f7b20d61a640",
   "metadata": {},
   "outputs": [],
   "source": [
    "df_real_data[cols_to_leave]"
   ]
  },
  {
   "cell_type": "code",
   "execution_count": null,
   "id": "bc4c18ef-a1f3-424e-905a-65fc6868cf5e",
   "metadata": {},
   "outputs": [],
   "source": [
    "df_real_data[[label_column]]"
   ]
  },
  {
   "cell_type": "code",
   "execution_count": null,
   "id": "1d1e1f7f-8ae8-440c-89c8-e84d80e7b1cb",
   "metadata": {},
   "outputs": [],
   "source": [
    "list(ohe.get_feature_names_out())"
   ]
  },
  {
   "cell_type": "code",
   "execution_count": null,
   "id": "61bdec3b-ca63-450b-8bc8-acd58db6b266",
   "metadata": {},
   "outputs": [],
   "source": [
    "df_real_data[label_column].head()"
   ]
  },
  {
   "cell_type": "code",
   "execution_count": null,
   "id": "70b5a04e-5ea4-476f-b3ab-f6d5ae489800",
   "metadata": {},
   "outputs": [],
   "source": [
    "pd.DataFrame(Y_train_data).head()"
   ]
  },
  {
   "cell_type": "markdown",
   "id": "19f7dfa1-ed4d-4b4b-8549-b6b6155c1936",
   "metadata": {},
   "source": [
    "## Split in training and test dataset"
   ]
  },
  {
   "cell_type": "code",
   "execution_count": null,
   "id": "2922eeb6-6edc-4d04-b84d-c6ea8a2df90c",
   "metadata": {},
   "outputs": [],
   "source": [
    "X_train, X_test, Y_train, Y_test = sklearn.model_selection.train_test_split(X_train_data, Y_train_data, test_size=0.30, random_state=21)"
   ]
  },
  {
   "cell_type": "code",
   "execution_count": null,
   "id": "7a16d551-fb06-485e-8de5-589c452a4d62",
   "metadata": {},
   "outputs": [],
   "source": [
    "plot_dataset_shapes(X_train, X_test, Y_train, Y_test)"
   ]
  },
  {
   "cell_type": "markdown",
   "id": "24ef1868-282d-4f7f-9a1b-5bcff97b83b6",
   "metadata": {},
   "source": [
    "## Create and train the model"
   ]
  },
  {
   "cell_type": "code",
   "execution_count": null,
   "id": "4669a5d5-cc07-4988-b2d3-4df08f4ae874",
   "metadata": {},
   "outputs": [],
   "source": [
    "import tensorflow as tf"
   ]
  },
  {
   "cell_type": "code",
   "execution_count": null,
   "id": "f129550e-8252-452b-98cb-cd031c596899",
   "metadata": {},
   "outputs": [],
   "source": [
    "vector_length = X_train.shape[1]\n",
    "num_classes = Y_train.shape[1]\n",
    "input_shape = (vector_length,)"
   ]
  },
  {
   "cell_type": "code",
   "execution_count": null,
   "id": "2903dc6e-c28c-4538-8f3f-ba2e11c8c342",
   "metadata": {},
   "outputs": [],
   "source": [
    "def build_model():\n",
    "    model = tf.keras.models.Sequential()\n",
    "    model.add(tf.keras.layers.Dense(100, input_shape=input_shape, activation='relu'))\n",
    "    model.add(tf.keras.layers.Dropout(0.5))\n",
    "    model.add(tf.keras.layers.Dense(50, activation='relu'))\n",
    "    model.add(tf.keras.layers.Dropout(0.5))\n",
    "    model.add(tf.keras.layers.Dense(10, activation='relu'))\n",
    "    model.add(tf.keras.layers.Dropout(0.5))\n",
    "    model.add(tf.keras.layers.Dense(num_classes, activation='softmax'))\n",
    "    return model"
   ]
  },
  {
   "cell_type": "markdown",
   "id": "9805fb1e-509b-459d-b40d-16ab4d80db27",
   "metadata": {},
   "source": [
    "### Training"
   ]
  },
  {
   "cell_type": "code",
   "execution_count": null,
   "id": "c41c9c6b-9f0a-48a2-bfe9-d664d65f3a4a",
   "metadata": {},
   "outputs": [],
   "source": [
    "model = build_model()\n",
    "model.compile(loss='categorical_crossentropy', optimizer='adam', metrics=['accuracy'])\n",
    "history = model.fit(X_train, Y_train, epochs=500, batch_size=50, verbose=0, validation_split=0.2, callbacks=[PlotAccuracy()])"
   ]
  },
  {
   "cell_type": "markdown",
   "id": "a7d2cbc2-10fe-4efd-ae55-e31f67b5a866",
   "metadata": {},
   "source": [
    "### Testing"
   ]
  },
  {
   "cell_type": "code",
   "execution_count": null,
   "id": "818aa5f5-536c-409e-9271-1fc29e43fb2c",
   "metadata": {},
   "outputs": [],
   "source": [
    "test_results = model.evaluate(X_test, Y_test, verbose=1)\n",
    "print(f'Test results - Loss: {test_results[0]} - Accuracy: {test_results[1]}%')"
   ]
  },
  {
   "cell_type": "code",
   "execution_count": null,
   "id": "d4c502d3-2252-429a-af61-85a1d474483a",
   "metadata": {},
   "outputs": [],
   "source": [
    "# Esegui le predizioni sul set di test per ogni classe\n",
    "from sklearn.metrics import confusion_matrix\n",
    "\n",
    "predictions = model.predict(X_test)\n",
    "predicted_classes = np.argmax(predictions, axis=1)\n",
    "y_test_single = np.argmax(Y_test, axis=1)\n",
    "conf_matrix = confusion_matrix(y_test_single, predicted_classes)\n",
    "class_accuracy = conf_matrix.diagonal() / conf_matrix.sum(axis=1) * 100\n",
    "\n",
    "print(f'{name_list[4]}: {class_accuracy[4]:.2f}%')"
   ]
  },
  {
   "cell_type": "markdown",
   "id": "a25ccf00-4a56-46d5-97b5-b573d934f1dd",
   "metadata": {
    "jp-MarkdownHeadingCollapsed": true
   },
   "source": [
    "# 4. Add synthetic data to enhance model performance"
   ]
  },
  {
   "cell_type": "code",
   "execution_count": null,
   "id": "fcb2ac10-989e-498b-929f-ff6249cb804f",
   "metadata": {},
   "outputs": [],
   "source": [
    "posizione_dati_sintetici = \"data/synth_data__.csv\"\n",
    "synth_data = pd.read_csv(posizione_dati_sintetici)"
   ]
  },
  {
   "cell_type": "code",
   "execution_count": null,
   "id": "35ad1b1b-bf76-49a0-8f3a-b78ab213cc25",
   "metadata": {},
   "outputs": [],
   "source": [
    "synth_data.shape"
   ]
  },
  {
   "cell_type": "code",
   "execution_count": null,
   "id": "9c0812f7-27da-40ec-baa3-a788d0f33a9e",
   "metadata": {},
   "outputs": [],
   "source": [
    "plot_missing_data_histogram(synth_data)"
   ]
  },
  {
   "cell_type": "code",
   "execution_count": null,
   "id": "4383e341-8e6d-4c91-b9aa-29787b2b470c",
   "metadata": {},
   "outputs": [],
   "source": [
    "df_hybrid_data = synth_data\n",
    "X_train_data = df_hybrid_data[cols_to_leave].values\n",
    "Y_train_data = df_hybrid_data[[label_column]]\n",
    "\n",
    "Y_train_data = ohe.fit_transform(Y_train_data).toarray()"
   ]
  },
  {
   "cell_type": "code",
   "execution_count": null,
   "id": "0173c65f-36cd-40ea-9708-a4db09912971",
   "metadata": {},
   "outputs": [],
   "source": [
    "X_train, X_test, Y_train, Y_test = sklearn.model_selection.train_test_split(X_train_data, Y_train_data, test_size=0.30, random_state=21)"
   ]
  },
  {
   "cell_type": "code",
   "execution_count": null,
   "id": "fbde2b15-340c-47ec-b266-4d9558ab504d",
   "metadata": {},
   "outputs": [],
   "source": [
    "plot_dataset_shapes(X_train, X_test, Y_train, Y_test)"
   ]
  },
  {
   "cell_type": "code",
   "execution_count": null,
   "id": "a0f89630-d2c1-4767-a6a8-0bc7fa8be21b",
   "metadata": {},
   "outputs": [],
   "source": [
    "vector_length = X_train.shape[1]\n",
    "num_classes = Y_train.shape[1]\n",
    "input_shape = (vector_length,)"
   ]
  },
  {
   "cell_type": "code",
   "execution_count": null,
   "id": "6906c821-ad71-45d6-8aad-8c2ae39c0282",
   "metadata": {},
   "outputs": [],
   "source": [
    "def build_model():\n",
    "    model = tf.keras.models.Sequential()\n",
    "    model.add(tf.keras.layers.Dense(100, input_shape=input_shape, activation='relu'))\n",
    "    model.add(tf.keras.layers.Dropout(0.5))\n",
    "    model.add(tf.keras.layers.Dense(50, activation='relu'))\n",
    "    model.add(tf.keras.layers.Dropout(0.5))\n",
    "    model.add(tf.keras.layers.Dense(10, activation='relu'))\n",
    "    model.add(tf.keras.layers.Dropout(0.5))\n",
    "    model.add(tf.keras.layers.Dense(num_classes, activation='softmax'))\n",
    "    return model"
   ]
  },
  {
   "cell_type": "code",
   "execution_count": null,
   "id": "87adc552-e6f8-46b1-bde3-aafa67f99b61",
   "metadata": {},
   "outputs": [],
   "source": [
    "model = build_model()\n",
    "model.compile(loss='categorical_crossentropy', optimizer='adam', metrics=['accuracy'])\n",
    "history = model.fit(X_train, Y_train, epochs=400, batch_size=100, verbose=0, validation_split=0.2, callbacks=[PlotAccuracy()])"
   ]
  },
  {
   "cell_type": "code",
   "execution_count": null,
   "id": "af392520-d9dd-4022-aedf-c81c483cccc4",
   "metadata": {},
   "outputs": [],
   "source": [
    "test_results = model.evaluate(X_test, Y_test, verbose=1)\n",
    "print(f'Test results - Loss: {test_results[0]} - Accuracy: {test_results[1]}%')"
   ]
  },
  {
   "cell_type": "code",
   "execution_count": null,
   "id": "af66dffb-b3ab-4e71-9c48-a99f66ca58eb",
   "metadata": {},
   "outputs": [],
   "source": [
    "# Esegui le predizioni sul set di test per ogni classe\n",
    "predictions = model.predict(X_test)\n",
    "predicted_classes = np.argmax(predictions, axis=1)\n",
    "y_test_single = np.argmax(Y_test, axis=1)\n",
    "conf_matrix = confusion_matrix(y_test_single, predicted_classes)\n",
    "class_accuracy = conf_matrix.diagonal() / conf_matrix.sum(axis=1) * 100\n",
    "\n",
    "print(f'{name_list[4]}: {class_accuracy[4]:.2f}%')"
   ]
  },
  {
   "cell_type": "code",
   "execution_count": null,
   "id": "0567bbae-d9ee-4a7b-a676-f6ff112e866d",
   "metadata": {},
   "outputs": [],
   "source": []
  }
 ],
 "metadata": {
  "kernelspec": {
   "display_name": "Python 3 (ipykernel)",
   "language": "python",
   "name": "python3"
  },
  "language_info": {
   "codemirror_mode": {
    "name": "ipython",
    "version": 3
   },
   "file_extension": ".py",
   "mimetype": "text/x-python",
   "name": "python",
   "nbconvert_exporter": "python",
   "pygments_lexer": "ipython3",
   "version": "3.8.10"
  }
 },
 "nbformat": 4,
 "nbformat_minor": 5
}
